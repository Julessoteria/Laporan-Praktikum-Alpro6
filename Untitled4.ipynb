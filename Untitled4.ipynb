{
 "cells": [
  {
   "cell_type": "code",
   "execution_count": 1,
   "id": "7495dd22",
   "metadata": {},
   "outputs": [
    {
     "name": "stdout",
     "output_type": "stream",
     "text": [
      "Masukkan bilangan n: 12\n",
      "Prima terdekat < 12 adalah 11\n"
     ]
    }
   ],
   "source": [
    "def is_prime(num):\n",
    "    if num <= 1:\n",
    "        return False\n",
    "    if num <= 3:\n",
    "        return True\n",
    "    if num % 2 == 0 or num % 3 == 0:\n",
    "        return False\n",
    "    i = 5\n",
    "    while i * i <= num:\n",
    "        if num % i == 0 or num % (i + 2) == 0:\n",
    "            return False\n",
    "        i += 6\n",
    "    return True\n",
    "\n",
    "def nearest_prime_less_than_n(n):\n",
    "    if n <= 2:\n",
    "        return None\n",
    "    prime = n - 1\n",
    "    while prime >= 2:\n",
    "        if is_prime(prime):\n",
    "            return prime\n",
    "        prime -= 1\n",
    "    return None\n",
    "\n",
    "n = int(input(\"Masukkan bilangan n: \"))\n",
    "nearest_prime = nearest_prime_less_than_n(n)\n",
    "if nearest_prime:\n",
    "    print(f\"Prima terdekat < {n} adalah {nearest_prime}\")\n",
    "else:\n",
    "    print(f\"Tidak ada bilangan prima terdekat < {n}\")"
   ]
  },
  {
   "cell_type": "code",
   "execution_count": 2,
   "id": "e43f7b4d",
   "metadata": {},
   "outputs": [
    {
     "name": "stdout",
     "output_type": "stream",
     "text": [
      "Masukkan nilai n: 6\n",
      "654321\n",
      "54321\n",
      "4321\n",
      "321\n",
      "21\n",
      "1\n"
     ]
    }
   ],
   "source": [
    "def deret(n):\n",
    "    for i in range(n, 0, -1):\n",
    "        for j in range(i, 0, -1):\n",
    "            print(j, end=\"\")\n",
    "        print()\n",
    "\n",
    "def main():\n",
    "    n = int(input(\"Masukkan nilai n: \"))\n",
    "    deret(n)\n",
    "\n",
    "if __name__ == \"__main__\":\n",
    "    main()"
   ]
  },
  {
   "cell_type": "code",
   "execution_count": 3,
   "id": "ce65f563",
   "metadata": {},
   "outputs": [
    {
     "name": "stdout",
     "output_type": "stream",
     "text": [
      "Masukkan tinggi deret: 5\n",
      "Masukkan lebar deret: 4\n",
      "1 2 3 4 \n",
      "5 6 7 8 \n",
      "9 10 11 12 \n",
      "13 14 15 16 \n",
      "17 18 19 20 \n"
     ]
    }
   ],
   "source": [
    "tinggi = int(input(\"Masukkan tinggi deret: \"))\n",
    "lebar = int(input(\"Masukkan lebar deret: \"))\n",
    "nomor = 1\n",
    "\n",
    "for i in range(1, tinggi + 1):\n",
    "    for j in range(1, lebar + 1):\n",
    "        print(nomor, end=\" \")\n",
    "        nomor += 1\n",
    "    print()"
   ]
  },
  {
   "cell_type": "code",
   "execution_count": null,
   "id": "b51eb98c",
   "metadata": {},
   "outputs": [],
   "source": []
  }
 ],
 "metadata": {
  "kernelspec": {
   "display_name": "Python 3 (ipykernel)",
   "language": "python",
   "name": "python3"
  },
  "language_info": {
   "codemirror_mode": {
    "name": "ipython",
    "version": 3
   },
   "file_extension": ".py",
   "mimetype": "text/x-python",
   "name": "python",
   "nbconvert_exporter": "python",
   "pygments_lexer": "ipython3",
   "version": "3.11.5"
  }
 },
 "nbformat": 4,
 "nbformat_minor": 5
}
